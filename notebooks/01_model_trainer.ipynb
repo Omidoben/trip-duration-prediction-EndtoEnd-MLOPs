{
 "cells": [
  {
   "cell_type": "markdown",
   "id": "ef3537e0-488a-4670-b07c-07d6cfcf5cd8",
   "metadata": {},
   "source": [
    "**Model**\n",
    "\n",
    "- Load the libraries\n",
    "- Create a function that loads & prepares the data - we use the January green trip data (2021) as the training data while the February green trip data as the validation data"
   ]
  },
  {
   "cell_type": "code",
   "execution_count": 1,
   "id": "84ef2db2-f33f-4011-a259-7f713b940b25",
   "metadata": {},
   "outputs": [],
   "source": [
    "import pandas as pd\n",
    "import numpy as np\n",
    "import matplotlib.pyplot as plt\n",
    "import seaborn as sns\n",
    "import pickle\n",
    "import os\n",
    "\n",
    "import warnings \n",
    "warnings.filterwarnings(\"ignore\")\n",
    "\n",
    "pd.set_option(\"display.max_columns\", None)\n",
    "pd.options.display.float_format = '{:.2f}'.format\n",
    "\n",
    "from sklearn.preprocessing import OneHotEncoder, StandardScaler\n",
    "from sklearn.impute import SimpleImputer\n",
    "from sklearn.pipeline import Pipeline\n",
    "from sklearn.compose import ColumnTransformer\n",
    "from sklearn.linear_model import LinearRegression, Lasso, Ridge\n",
    "from sklearn.metrics import mean_squared_error, root_mean_squared_error"
   ]
  },
  {
   "cell_type": "code",
   "execution_count": 4,
   "id": "a3d60c16-7817-409f-a54a-e40ac5ae9bc2",
   "metadata": {},
   "outputs": [],
   "source": [
    "def load_clean_data(filename, year=None, month=None):\n",
    "    \"\"\"\n",
    "    Reads NYC taxi trip data (CSV or parquet), cleans and prepares it\n",
    "    Returns a dataframe\n",
    "    \"\"\"\n",
    "    if filename.endswith(\".parquet\"):\n",
    "        df = pd.read_parquet(filename)\n",
    "\n",
    "    elif filename.endswith(\".csv\"):\n",
    "        df = pd.read_csv(filename)\n",
    "        df['lpep_dropoff_datetime'] = pd.to_datetime(df['lpep_dropoff_datetime'])\n",
    "        df['lpep_pickup_datetime'] = pd.to_datetime(df['lpep_pickup_datetime'])\n",
    "\n",
    "    else:\n",
    "        raise ValueError(\"File must be .parquet or .csv\")\n",
    "    \n",
    "    # Trip duration in minutes\n",
    "    df['duration'] = (df['lpep_dropoff_datetime'] - df['lpep_pickup_datetime']).dt.total_seconds() / 60\n",
    "\n",
    "    # Filter trip distance and duration \n",
    "    df = df[(df[\"duration\"] >= 1) & (df[\"duration\"] <= 60)]\n",
    "    df =  df[(df['trip_distance'] >= 1) & (df['trip_distance'] <= 50)]\n",
    "\n",
    "    # # Filter by year, keep 2021 data only, and also by month if provided\n",
    "    if year:\n",
    "        df = df[df['lpep_pickup_datetime'].dt.year == year]\n",
    "    if month:\n",
    "        df = df[df['lpep_pickup_datetime'].dt.month == month]\n",
    "\n",
    "    categorical_cols = ['PULocationID', 'DOLocationID', 'payment_type']\n",
    "    df[categorical_cols] = df[categorical_cols].astype(str)\n",
    "    \n",
    "    df['PU_DO'] = df['PULocationID'] + '_' + df['DOLocationID']\n",
    "\n",
    "    return df"
   ]
  },
  {
   "cell_type": "code",
   "execution_count": 6,
   "id": "affdc90b-1b22-480c-8adb-988151a10bb0",
   "metadata": {},
   "outputs": [],
   "source": [
    "# Load train and validation data\n",
    "train_data = load_clean_data(\"../data/raw/green_tripdata_2021-01.parquet\", year=2021, month=1)\n",
    "val_data = load_clean_data(\"../data/raw/green_tripdata_2021-02.parquet\", year=2021, month=2)"
   ]
  },
  {
   "cell_type": "code",
   "execution_count": 7,
   "id": "29f6703d-b463-43e7-acc6-bb5b7a1d6750",
   "metadata": {},
   "outputs": [
    {
     "name": "stdout",
     "output_type": "stream",
     "text": [
      "Train shape: (62416, 22)\n",
      "Validation shape: (52315, 22)\n"
     ]
    }
   ],
   "source": [
    "print(f\"Train shape: {train_data.shape}\")\n",
    "print(f\"Validation shape: {val_data.shape}\")"
   ]
  },
  {
   "cell_type": "code",
   "execution_count": 10,
   "id": "460d4336-ff92-47c6-82b6-7d452c2faabd",
   "metadata": {},
   "outputs": [],
   "source": [
    "# Time features\n",
    "def add_time_features(df):\n",
    "    df[\"pickup_hour\"] = df[\"lpep_pickup_datetime\"].dt.hour\n",
    "    df[\"pickup_dayofweek\"] = df[\"lpep_pickup_datetime\"].dt.dayofweek\n",
    "    df[\"is_weekend\"] = (df[\"pickup_dayofweek\"] >= 5).astype(int)\n",
    "    return df"
   ]
  },
  {
   "cell_type": "code",
   "execution_count": 11,
   "id": "bffce4ec-433e-4a9e-b12d-0613169ac694",
   "metadata": {},
   "outputs": [
    {
     "name": "stdout",
     "output_type": "stream",
     "text": [
      "Train shape: (62416, 25)\n",
      "Validation shape: (52315, 25)\n"
     ]
    }
   ],
   "source": [
    "train_data = add_time_features(train_data)\n",
    "val_data = add_time_features(val_data)\n",
    "\n",
    "print(f\"Train shape: {train_data.shape}\")\n",
    "print(f\"Validation shape: {val_data.shape}\")"
   ]
  },
  {
   "cell_type": "code",
   "execution_count": 13,
   "id": "9177d28a-9ddd-40e0-ab9e-794a10813ebc",
   "metadata": {},
   "outputs": [],
   "source": [
    "# Define features to be included in the model\n",
    "categorical = [\"PU_DO\", \"pickup_hour\", \"pickup_dayofweek\", \"payment_type\"]\n",
    "numerical = [\"trip_distance\", \"passenger_count\"]\n",
    "target = \"duration\""
   ]
  },
  {
   "cell_type": "code",
   "execution_count": 14,
   "id": "9fe6ede8-9e53-41c4-ac09-31151f03dd6b",
   "metadata": {},
   "outputs": [],
   "source": [
    "# preprocessor\n",
    "cat_transformer = Pipeline([\n",
    "    (\"imputer\", SimpleImputer(strategy=\"most_frequent\")),\n",
    "    (\"encoder\", OneHotEncoder(handle_unknown=\"ignore\"))\n",
    "])\n",
    "\n",
    "\n",
    "num_transformer = Pipeline(steps=[\n",
    "    ('imputer', SimpleImputer(strategy='median')),\n",
    "    ('scaler', StandardScaler())\n",
    "])\n",
    "\n",
    "\n",
    "preprocessor = ColumnTransformer([\n",
    "    ('cat', cat_transformer, categorical),\n",
    "    ('num', num_transformer, numerical)\n",
    "])"
   ]
  },
  {
   "cell_type": "markdown",
   "id": "b92cd4b1-80f2-4efe-8087-d80898b4b13c",
   "metadata": {},
   "source": [
    "Fit the model - Below function defines model training and saves the model"
   ]
  },
  {
   "cell_type": "code",
   "execution_count": 15,
   "id": "dc4be177-d32a-4c65-a9ac-8feade98e64a",
   "metadata": {},
   "outputs": [],
   "source": [
    "def train_model(model, model_name):\n",
    "    \"\"\"\n",
    "    Trains a pipeline model, evaluates it, and then saves it\n",
    "    \"\"\"\n",
    "    # Combine the features\n",
    "    X_train = train_data[categorical + numerical]\n",
    "    y_train = train_data[target]\n",
    "        \n",
    "    X_val = val_data[categorical + numerical]\n",
    "    y_val = val_data[target]\n",
    "    \n",
    "    model = Pipeline([\n",
    "    (\"preprocessor\", preprocessor),\n",
    "    (\"regressor\", model)\n",
    "    ])\n",
    "\n",
    "    model.fit(X_train, y_train)\n",
    "\n",
    "    # Evaluate the model on validation data\n",
    "    y_pred = model.predict(X_val)\n",
    "    rmse = root_mean_squared_error(y_val, y_pred)\n",
    "    print(f\"Validation RMSE: {rmse}\")\n",
    "\n",
    "    # save the model\n",
    "    os.makedirs(\"models\", exist_ok=True)\n",
    "    with open(f\"models/{model_name}.bin\", \"wb\") as f_out:\n",
    "        pickle.dump(model, f_out)\n",
    "\n",
    "    return rmse"
   ]
  },
  {
   "cell_type": "code",
   "execution_count": 16,
   "id": "4f7c87f0-9b17-4f3e-b808-6e0b85ec864c",
   "metadata": {},
   "outputs": [
    {
     "name": "stdout",
     "output_type": "stream",
     "text": [
      "Validation RMSE: 6.5198869548418665\n"
     ]
    }
   ],
   "source": [
    "# Train the models\n",
    "# 1) Linear regression\n",
    "rmse_lr = train_model(LinearRegression(), \"lin_reg\")"
   ]
  },
  {
   "cell_type": "code",
   "execution_count": 17,
   "id": "23fec71c-398e-4241-aff4-b57c477596ec",
   "metadata": {},
   "outputs": [
    {
     "name": "stdout",
     "output_type": "stream",
     "text": [
      "Validation RMSE: 6.9143977414495845\n"
     ]
    }
   ],
   "source": [
    "# 2) Lasso model\n",
    "rmse_lasso = train_model(Lasso(alpha=0.001), \"lasso\")"
   ]
  },
  {
   "cell_type": "code",
   "execution_count": 18,
   "id": "7d41e8e7-3bf5-480c-bae1-e99b69869648",
   "metadata": {},
   "outputs": [
    {
     "name": "stdout",
     "output_type": "stream",
     "text": [
      "Validation RMSE: 6.449752974490016\n"
     ]
    }
   ],
   "source": [
    "rmse_ridge = train_model(Ridge(alpha=0.1), \"ridge\")"
   ]
  },
  {
   "cell_type": "code",
   "execution_count": 19,
   "id": "9426ee8c-c817-41f4-9cc6-3b91611ad745",
   "metadata": {},
   "outputs": [
    {
     "data": {
      "image/png": "[encoded data removed]",
      "text/plain": [
       "<Figure size 640x480 with 1 Axes>"
      ]
     },
     "metadata": {},
     "output_type": "display_data"
    }
   ],
   "source": [
    "# Reload best model to visualize performance\n",
    "with open(\"models/ridge.bin\", \"rb\") as f_in:\n",
    "    pipeline = pickle.load(f_in)\n",
    "\n",
    "X_val = val_data[categorical + numerical]\n",
    "y_val = val_data[target]\n",
    "y_pred = pipeline.predict(X_val)\n",
    "\n",
    "sns.kdeplot(y_val, label='Actual')\n",
    "sns.kdeplot(y_pred, label='Predicted')\n",
    "plt.legend()\n",
    "plt.title(\"Actual vs Predicted Trip Duration Distribution\")\n",
    "plt.show()"
   ]
  }
 ],
 "metadata": {
  "kernelspec": {
   "display_name": "Python (mlops)",
   "language": "python",
   "name": "mlops"
  },
  "language_info": {
   "codemirror_mode": {
    "name": "ipython",
    "version": 3
   },
   "file_extension": ".py",
   "mimetype": "text/x-python",
   "name": "python",
   "nbconvert_exporter": "python",
   "pygments_lexer": "ipython3",
   "version": "3.10.18"
  }
 },
 "nbformat": 4,
 "nbformat_minor": 5
}
